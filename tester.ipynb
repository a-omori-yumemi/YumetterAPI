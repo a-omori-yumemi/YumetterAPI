{
 "cells": [
  {
   "cell_type": "code",
   "execution_count": 30,
   "source": [
    "import requests\n",
    "import random\n",
    "base = \"http://localhost:8000/v1\"\n",
    "sess = requests.session()\n",
    "\n",
    "testUser = {\n",
    "    \"name\" : \"testUser\"+str(random.randint(1,1000000)),\n",
    "    \"password\" : \"super_secure_password\",\n",
    "}\n",
    "print(testUser)"
   ],
   "outputs": [
    {
     "output_type": "stream",
     "name": "stdout",
     "text": [
      "{'name': 'testUser442001', 'password': 'super_secure_password'}\n"
     ]
    }
   ],
   "metadata": {}
  },
  {
   "cell_type": "code",
   "execution_count": 33,
   "source": [
    "resp = sess.post(base + \"/users/\", data={\"name\":testUser[\"name\"], \"password\":testUser[\"password\"]})\n",
    "print(resp.status_code, resp.content)"
   ],
   "outputs": [
    {
     "output_type": "stream",
     "name": "stdout",
     "text": [
      "500 b'{\"message\":\"Internal Server Error\"}\\n'\n"
     ]
    }
   ],
   "metadata": {}
  }
 ],
 "metadata": {
  "language_info": {
   "name": "python",
   "version": "3.10.0",
   "mimetype": "text/x-python",
   "codemirror_mode": {
    "name": "ipython",
    "version": 3
   },
   "pygments_lexer": "ipython3",
   "nbconvert_exporter": "python",
   "file_extension": ".py"
  },
  "kernelspec": {
   "name": "python3",
   "display_name": "Python 3.10.0 64-bit ('3.10.0': pyenv)"
  },
  "interpreter": {
   "hash": "dc522a2fd327f8cbdc6c82772beed10dc62e7d14310e80e12fab2737eb347697"
  }
 },
 "nbformat": 4,
 "nbformat_minor": 5
}